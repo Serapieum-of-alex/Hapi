{
    "cells": [
        {
            "metadata": {},
            "cell_type": "raw",
            "source": ""
        }
    ],
    "metadata": {},
    "nbformat": 4,
    "nbformat_minor": 4
}
