{
    "cells": [
        {
            "cell_type": "markdown",
            "id": "be755513-aa47-48b8-b5f8-fbb11139597f",
            "metadata": {},
            "source": [
                "# Extract Distributed Parameters"
            ]
        },
        {
            "cell_type": "code",
            "execution_count": 19,
            "id": "8cb1344c-976b-4aee-b4af-01db473e6bf5",
            "metadata": {},
            "outputs": [],
            "source": [
                "from Hapi.inputs import Inputs"
            ]
        },
        {
            "cell_type": "code",
            "execution_count": 20,
            "id": "3e4fd43d-12d5-4176-a524-3b724d46708d",
            "metadata": {},
            "outputs": [],
            "source": [
                "dem_path = \"../../data/GIS/Hapi_GIS_Data/acc4000.tif\"\n",
                "outputpath = \"../../data/parameters/03/\""
            ]
        },
        {
            "cell_type": "code",
            "execution_count": 18,
            "id": "52cf4ca1-8022-48cf-985a-3d2e2dc51df0",
            "metadata": {},
            "outputs": [
                {
                    "data": {
                        "text/plain": [
                            "'F:\\\\01Algorithms\\\\Hydrology\\\\HAPI\\\\Examples\\\\Prepare Input Data\\\\notebooks'"
                        ]
                    },
                    "execution_count": 18,
                    "metadata": {},
                    "output_type": "execute_result"
                }
            ],
            "source": [
                "import os\n",
                "os.getcwd()"
            ]
        },
        {
            "cell_type": "code",
            "execution_count": 23,
            "id": "5ce9dad0-9da4-4b7a-8d85-a3f62f1868ad",
            "metadata": {},
            "outputs": [
                {
                    "name": "stdout",
                    "output_type": "stream",
                    "text": [
                        "First alligned files will be created in a folder 'AllignedRasters' in the Temp folder in you environment variable\n",
                        "New Path- C:\\Users\\mofarrag\\AppData\\Local\\Temp/AllignedRasters/\n",
                        "1/19 - C:\\Users\\mofarrag\\AppData\\Local\\Temp/AllignedRasters/01_TT.tif\n",
                        "2/19 - C:\\Users\\mofarrag\\AppData\\Local\\Temp/AllignedRasters/02_RFCF.tif\n",
                        "3/19 - C:\\Users\\mofarrag\\AppData\\Local\\Temp/AllignedRasters/03_SFCF.tif\n",
                        "4/19 - C:\\Users\\mofarrag\\AppData\\Local\\Temp/AllignedRasters/04_CFMAX.tif\n",
                        "5/19 - C:\\Users\\mofarrag\\AppData\\Local\\Temp/AllignedRasters/05_CWH.tif\n",
                        "6/19 - C:\\Users\\mofarrag\\AppData\\Local\\Temp/AllignedRasters/06_CFR.tif\n",
                        "7/19 - C:\\Users\\mofarrag\\AppData\\Local\\Temp/AllignedRasters/07_FC.tif\n",
                        "8/19 - C:\\Users\\mofarrag\\AppData\\Local\\Temp/AllignedRasters/08_BETA.tif\n",
                        "9/19 - C:\\Users\\mofarrag\\AppData\\Local\\Temp/AllignedRasters/09_ETF.tif\n",
                        "10/19 - C:\\Users\\mofarrag\\AppData\\Local\\Temp/AllignedRasters/10_LP.tif\n",
                        "11/19 - C:\\Users\\mofarrag\\AppData\\Local\\Temp/AllignedRasters/11_K0.tif\n",
                        "12/19 - C:\\Users\\mofarrag\\AppData\\Local\\Temp/AllignedRasters/12_K1.tif\n",
                        "13/19 - C:\\Users\\mofarrag\\AppData\\Local\\Temp/AllignedRasters/13_K2.tif\n",
                        "14/19 - C:\\Users\\mofarrag\\AppData\\Local\\Temp/AllignedRasters/14_UZL.tif\n",
                        "15/19 - C:\\Users\\mofarrag\\AppData\\Local\\Temp/AllignedRasters/15_PERC.tif\n",
                        "16/19 - C:\\Users\\mofarrag\\AppData\\Local\\Temp/AllignedRasters/16_MAXBAS.tif\n",
                        "17/19 - C:\\Users\\mofarrag\\AppData\\Local\\Temp/AllignedRasters/17_K_muskingum.tif\n",
                        "18/19 - C:\\Users\\mofarrag\\AppData\\Local\\Temp/AllignedRasters/18_X_muskingum.tif\n",
                        "19/19 - C:\\Users\\mofarrag\\AppData\\Local\\Temp/AllignedRasters/ID1.tif\n",
                        "second matching NoDataValue from the DEM raster too all raster will be created in the outputpath\n",
                        "New Path- ../../data/parameters/03//\n",
                        "1/19 - ../../data/parameters/03//01_TT.tif\n",
                        "2/19 - ../../data/parameters/03//02_RFCF.tif\n",
                        "3/19 - ../../data/parameters/03//03_SFCF.tif\n",
                        "4/19 - ../../data/parameters/03//04_CFMAX.tif\n",
                        "5/19 - ../../data/parameters/03//05_CWH.tif\n",
                        "6/19 - ../../data/parameters/03//06_CFR.tif\n",
                        "7/19 - ../../data/parameters/03//07_FC.tif\n",
                        "8/19 - ../../data/parameters/03//08_BETA.tif\n",
                        "9/19 - ../../data/parameters/03//09_ETF.tif\n",
                        "10/19 - ../../data/parameters/03//10_LP.tif\n",
                        "11/19 - ../../data/parameters/03//11_K0.tif\n",
                        "12/19 - ../../data/parameters/03//12_K1.tif\n",
                        "13/19 - ../../data/parameters/03//13_K2.tif\n",
                        "14/19 - ../../data/parameters/03//14_UZL.tif\n",
                        "15/19 - ../../data/parameters/03//15_PERC.tif\n",
                        "16/19 - ../../data/parameters/03//16_MAXBAS.tif\n",
                        "17/19 - ../../data/parameters/03//17_K_muskingum.tif\n",
                        "18/19 - ../../data/parameters/03//18_X_muskingum.tif\n",
                        "19/19 - ../../data/parameters/03//ID1.tif\n"
                    ]
                }
            ],
            "source": [
                "Inputs.extractParameters(dem_path, '03', AsRaster=True, SaveTo=outputpath)\n"
            ]
        }
    ],
    "metadata": {
        "kernelspec": {
            "display_name": "Python 3",
            "language": "python",
            "name": "python3"
        },
        "language_info": {
            "codemirror_mode": {
                "name": "ipython",
                "version": 3
            },
            "file_extension": ".py",
            "mimetype": "text/x-python",
            "name": "python",
            "nbconvert_exporter": "python",
            "pygments_lexer": "ipython3",
            "version": "3.8.8"
        }
    },
    "nbformat": 4,
    "nbformat_minor": 5
}
