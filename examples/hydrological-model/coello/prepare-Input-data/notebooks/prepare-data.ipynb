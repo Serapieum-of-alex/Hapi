{
    "cells": [
        {
            "cell_type": "markdown",
            "metadata": {},
            "source": [
                "# Prepare Inputs For Hapi"
            ]
        },
        {
            "cell_type": "markdown",
            "metadata": {},
            "source": [
                "To start using Hapi, the meteorological Input data (Precipitation, potential Evapotranspiration and Temperature) have to match the DEM in the number of rows and columns and for this purpose this code takes the inputs and (Raster form) and prepare them to be ready to run Hapi"
            ]
        },
        {
            "cell_type": "markdown",
            "metadata": {},
            "source": [
                "### - import Libraries"
            ]
        },
        {
            "cell_type": "code",
            "execution_count": null,
            "metadata": {},
            "outputs": [],
            "source": [
                "#library\n",
                "import numpy as np\n",
                "# Hapi Modules\n",
                "from Hapi import Raster\n",
                "from Hapi import Inputs\n",
                "\n",
                "import gdal"
            ]
        },
        {
            "cell_type": "markdown",
            "metadata": {},
            "source": [
                "This Note book prepares downloaded raster data to have the same alignment and\n",
                "nodatavalue from a GIS raster (DEM, flow accumulation, flow direction raster)\n",
                "and return a folder with the output rasters with a name \u201cNew_Rasters\u201d\n",
                "- all the meteorological inputs has to match the DEM raster"
            ]
        },
        {
            "cell_type": "markdown",
            "metadata": {},
            "source": [
                "### - Path to the DEM\n"
            ]
        },
        {
            "cell_type": "code",
            "execution_count": null,
            "metadata": {},
            "outputs": [],
            "source": [
                "dem_path=\"Data/GIS/4000/acc4000.tif\"\n",
                "\n",
                "outputpath=\"Data/meteodata_prepared/\""
            ]
        },
        {
            "cell_type": "markdown",
            "metadata": {},
            "source": [
                "You need to create three folders inside the outputpath defined the the previous cell\n",
                "- /outputpath\n",
                "    /prec\n",
                "    /evap\n",
                "    /temp"
            ]
        },
        {
            "cell_type": "markdown",
            "metadata": {},
            "source": [
                "### Meteorological Input folders\n",
                "each folder contain the rasters you want to prepare for running Hapi"
            ]
        },
        {
            "cell_type": "code",
            "execution_count": null,
            "metadata": {},
            "outputs": [],
            "source": [
                "# prec\n",
                "prec_in_path=\"Data/meteodata/4000/complete_dataset/prec/\""
            ]
        },
        {
            "cell_type": "markdown",
            "metadata": {},
            "source": [
                "### prepareInputs \n",
                "this function takes the DEM as a template (rows and columns) and takes the folder where any raster data\n",
                "you want to match with exists\n",
                "\n",
                "- First it creates a folder in your temp folder to allign (match the number od rows and columns) in all the rasters with the DEM \n",
                "- Second it crops all the rasters to the same extent of the DEM and creates a folder with the given string in the third argument (if already exist it will overwrite)"
            ]
        },
        {
            "cell_type": "code",
            "execution_count": null,
            "metadata": {
                "scrolled": true
            },
            "outputs": [],
            "source": [
                "# Run the code \n",
                "Inputs.prepareInputs(dem_path,prec_in_path,outputpath+\"prec\")"
            ]
        },
        {
            "cell_type": "code",
            "execution_count": null,
            "metadata": {},
            "outputs": [],
            "source": [
                "# evap\n",
                "evap_in_path=\"Data/meteodata/4000/complete_dataset/evap/\"\n",
                "Inputs.prepareInputs(dem_path,evap_in_path,outputpath+\"evap\")"
            ]
        },
        {
            "cell_type": "code",
            "execution_count": null,
            "metadata": {},
            "outputs": [],
            "source": [
                "# temp\n",
                "temp_in_path=\"Data/meteodata/4000/complete_dataset/temp/\"\n",
                "Inputs.prepareInputs(dem_path,temp_in_path,outputpath+\"temp\")"
            ]
        },
        {
            "cell_type": "markdown",
            "metadata": {},
            "source": [
                "### Map Algebra"
            ]
        },
        {
            "cell_type": "markdown",
            "metadata": {},
            "source": [
                "in case you want to manipulate the value in all the rasters of one of the inputs \n",
                "for example evapotranspiration values in rasters downloaded from ECMWF are negative\n",
                "(the sign is indication of the direction of the flux so evaporation is negativve and condensation is positive\n",
                "\"How can evaporation have both positive and negative values? \n",
                "Evaporation is normally negative due to the convention for fluxes.\n",
                "The meteorological convention for all vertical fluxes is that downwards is positive.\n",
                "Positive evaporation represents condensation\".\n",
                "Link: https://confluence.ecmwf.int/pages/viewpage.action?pageId=111155327)\n",
                "and to change it to positive in all rasters \n",
                "or \n",
                "if you want to operate any kind of function in all input rasters that are in the same\n",
                "folder FolderCalculator function can do this task"
            ]
        },
        {
            "cell_type": "code",
            "execution_count": null,
            "metadata": {},
            "outputs": [],
            "source": [
                "# define your function\n",
                "# this function is going to take the absolute value of the values in the raster\n",
                "# through MapAlgebra function then save the new raster to a given path with the same names\n",
                "def function(args):\n",
                "    # argument a list of two components\n",
                "    # first argument is the raster object [gdal object]\n",
                "    A = args[0]\n",
                "    # second argument is the path to save the resulted raster\n",
                "    path = args[1]\n",
                "    func=np.abs\n",
                "    # first function \n",
                "    B=Raster.MapAlgebra(A,func)\n",
                "    Raster.SaveRaster(B,path)"
            ]
        },
        {
            "cell_type": "code",
            "execution_count": null,
            "metadata": {},
            "outputs": [],
            "source": [
                "# the inputs will be the evaporation rasters that we have just alligned\n",
                "evap_out_path=\"Data/meteodata_prepared/evap/\"\n",
                "folder_path = evap_out_path\n",
                "new_folder_path=\"data/meteodata_prepared/new_evap/\""
            ]
        },
        {
            "cell_type": "code",
            "execution_count": null,
            "metadata": {},
            "outputs": [],
            "source": [
                "Raster.FolderCalculator(folder_path,new_folder_path,function)"
            ]
        },
        {
            "cell_type": "markdown",
            "metadata": {},
            "source": [
                "### Align any raster (MatchRasterAlignment function)"
            ]
        },
        {
            "cell_type": "markdown",
            "metadata": {},
            "source": [
                "You need to read the source raster and the raster you want to match it to the source (match alignment coordinate system and \n",
                "cell size) you need to read both rasters with gdal and path them to MatchRasterAlignment function"
            ]
        },
        {
            "cell_type": "code",
            "execution_count": null,
            "metadata": {},
            "outputs": [],
            "source": [
                "soil_path=\"Data/GIS/soil/4000/soil_raster.tif\"\n",
                "DEM=gdal.Open(dem_path)\n",
                "soil=gdal.Open(soil_path)\n",
                "#dem_A=DEM.ReadAsArray()\n",
                "#soil_A=soil.ReadAsArray()"
            ]
        },
        {
            "cell_type": "code",
            "execution_count": null,
            "metadata": {},
            "outputs": [],
            "source": [
                "dem_A=DEM.ReadAsArray()\n",
                "print(np.shape(dem_A))"
            ]
        },
        {
            "cell_type": "code",
            "execution_count": null,
            "metadata": {},
            "outputs": [],
            "source": [
                "soil_A=soil.ReadAsArray()\n",
                "print(np.shape(soil_A))"
            ]
        },
        {
            "cell_type": "code",
            "execution_count": null,
            "metadata": {
                "scrolled": false
            },
            "outputs": [],
            "source": [
                "# MatchRasterAlignment\n",
                "# MatchRasterAlignment function returns a gdal object \n",
                "aligned_soil=Raster.MatchRasterAlignment(DEM,soil)"
            ]
        },
        {
            "cell_type": "code",
            "execution_count": null,
            "metadata": {},
            "outputs": [],
            "source": [
                "# to check alignment of DEM raster compared to aligned_soil_A raster\n",
                "aligned_soil_A=aligned_soil.ReadAsArray()"
            ]
        },
        {
            "cell_type": "code",
            "execution_count": null,
            "metadata": {},
            "outputs": [],
            "source": [
                "print(np.shape(aligned_soil_A))"
            ]
        },
        {
            "cell_type": "code",
            "execution_count": null,
            "metadata": {},
            "outputs": [],
            "source": [
                "# nodatavalue is still different and some cells are no data value in the soil type raster but it is not in the dem raster\n",
                "# to match use Match MatchNoDataValue\n",
                "# match\n",
                "dst_Aligned_M=Raster.MatchNoDataValue(DEM,aligned_soil)\n",
                "dst_Aligned_M_A=dst_Aligned_M.ReadAsArray()"
            ]
        },
        {
            "cell_type": "code",
            "execution_count": null,
            "metadata": {},
            "outputs": [],
            "source": [
                "# save the raster\n",
                "Raster.SaveRaster(dst_Aligned_M,\"Data/GIS/soil/4000/soil_type.tif\")"
            ]
        }
    ],
    "metadata": {
        "kernelspec": {
            "display_name": "Python 3",
            "language": "python",
            "name": "python3"
        },
        "language_info": {
            "codemirror_mode": {
                "name": "ipython",
                "version": 3
            },
            "file_extension": ".py",
            "mimetype": "text/x-python",
            "name": "python",
            "nbconvert_exporter": "python",
            "pygments_lexer": "ipython3",
            "version": "3.7.4"
        }
    },
    "nbformat": 4,
    "nbformat_minor": 4
}
